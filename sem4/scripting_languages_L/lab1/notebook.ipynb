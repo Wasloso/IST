{
 "cells": [
  {
   "cell_type": "code",
   "execution_count": 3,
   "id": "26d6c0e6-8891-422d-aa03-922325151574",
   "metadata": {},
   "outputs": [
    {
     "name": "stdout",
     "output_type": "stream",
     "text": [
      "Hello, World\n"
     ]
    }
   ],
   "source": [
    "name = 'World'\n",
    "print(f'Hello, {name}')"
   ]
  },
  {
   "cell_type": "markdown",
   "id": "cf549852-cbec-49d7-b560-b8e4875bda77",
   "metadata": {},
   "source": [
    "# Moja aplikacja w języku Python \n",
    "Oto mój pierwszy notes Jupyter.\n"
   ]
  }
 ],
 "metadata": {
  "kernelspec": {
   "display_name": "Python 3 (ipykernel)",
   "language": "python",
   "name": "python3"
  },
  "language_info": {
   "codemirror_mode": {
    "name": "ipython",
    "version": 3
   },
   "file_extension": ".py",
   "mimetype": "text/x-python",
   "name": "python",
   "nbconvert_exporter": "python",
   "pygments_lexer": "ipython3",
   "version": "3.12.2"
  }
 },
 "nbformat": 4,
 "nbformat_minor": 5
}
